{
 "cells": [
  {
   "cell_type": "code",
   "execution_count": 90,
   "metadata": {},
   "outputs": [],
   "source": [
    "import pandas as pd\n",
    "import numpy as np\n",
    "\n",
    "from dateutil.parser import parse\n",
    "from datetime import datetime\n",
    "import dateutil.parser\n",
    "\n",
    "import matplotlib.pyplot as plt\n",
    "%matplotlib inline\n",
    "\n",
    "import seaborn as sns\n",
    "\n",
    "\n",
    "import glob\n",
    "import os\n",
    "import zipfile\n",
    "\n",
    "import timeit\n",
    "import requests\n",
    "\n",
    "from bs4 import BeautifulSoup\n",
    "import re\n",
    "import urllib\n",
    "from bs4 import BeautifulSoup, element\n",
    "\n",
    "import nltk\n",
    "\n",
    "import statsmodels.api as sm\n",
    "import statsmodels.formula.api as smf\n",
    "import patsy\n",
    "\n",
    "from sklearn.model_selection import train_test_split\n",
    "from sklearn.linear_model import LinearRegression\n",
    "from sklearn.linear_model import RidgeCV\n",
    "\n",
    "import statsmodels.api as sm"
   ]
  },
  {
   "cell_type": "markdown",
   "metadata": {},
   "source": [
    "## December"
   ]
  },
  {
   "cell_type": "code",
   "execution_count": 91,
   "metadata": {},
   "outputs": [],
   "source": [
    "# bring in vg chart data from url\n",
    "url = 'http://www.vgchartz.com/preorders/43436/USA/'\n",
    "\n",
    "response = requests.get(url)"
   ]
  },
  {
   "cell_type": "code",
   "execution_count": 92,
   "metadata": {},
   "outputs": [],
   "source": [
    "tables = pd.read_html(url)"
   ]
  },
  {
   "cell_type": "code",
   "execution_count": 93,
   "metadata": {},
   "outputs": [],
   "source": [
    "# convert list object to a dataframe \n",
    "dec_df = pd.DataFrame(tables[0])"
   ]
  },
  {
   "cell_type": "code",
   "execution_count": 94,
   "metadata": {},
   "outputs": [],
   "source": [
    "# Apply a function to format game title \n",
    "dec_df['Game'] = dec_df['Game'].apply(game_title)"
   ]
  },
  {
   "cell_type": "code",
   "execution_count": 95,
   "metadata": {},
   "outputs": [],
   "source": [
    "dec_df['Game'] = dec_df['Game'].str.lower()"
   ]
  },
  {
   "cell_type": "code",
   "execution_count": 96,
   "metadata": {},
   "outputs": [],
   "source": [
    "dec_df.columns = [x.lower() for x in dec_df.columns]"
   ]
  },
  {
   "cell_type": "code",
   "execution_count": 97,
   "metadata": {},
   "outputs": [],
   "source": [
    "dec_filtered = dec_df.loc[dec_df['weeks to launch'] <=5]"
   ]
  },
  {
   "cell_type": "code",
   "execution_count": 98,
   "metadata": {},
   "outputs": [],
   "source": [
    "dec_filtered = dec_filtered.dropna(subset=['total'])"
   ]
  },
  {
   "cell_type": "code",
   "execution_count": 99,
   "metadata": {},
   "outputs": [],
   "source": [
    "dec_df = dec_filtered.groupby(['game'])['total'].sum().reset_index()\n"
   ]
  },
  {
   "cell_type": "code",
   "execution_count": 100,
   "metadata": {},
   "outputs": [],
   "source": [
    "dec_df['game'] = dec_df['game'].replace(['super smash bros.'], 'super smash bros. ultimate')"
   ]
  },
  {
   "cell_type": "code",
   "execution_count": 101,
   "metadata": {},
   "outputs": [],
   "source": [
    "twitch_nov = pd.read_csv(\"twitch_november\")  "
   ]
  },
  {
   "cell_type": "code",
   "execution_count": 102,
   "metadata": {},
   "outputs": [],
   "source": [
    "twitch_nov.rename(columns = {\n",
    "    'Game': 'game',\n",
    "    'Watch time': 'watch_time',\n",
    "    'Stream time': 'stream_time',\n",
    "    'Peak viewers': 'peak_viewers',\n",
    "    'Peak channels': 'peak_channels',\n",
    "    'Streamers': 'streamers',\n",
    "    'Average viewers': 'average_viewers',\n",
    "    'Average channels': 'average_channels',\n",
    "    'Average viewer ratio': 'average_viewer_ratio',\n",
    "    'Followers gained': 'followers_gained',\n",
    "    'Views gained': 'views_gained'},\n",
    "    inplace = True)"
   ]
  },
  {
   "cell_type": "code",
   "execution_count": 103,
   "metadata": {},
   "outputs": [],
   "source": [
    "twitch_nov = twitch_nov.drop(['followers_gained', 'Unnamed: 1', 'Unnamed: 0', 'Unnamed: 13', 'views_gained'], axis=1)\n"
   ]
  },
  {
   "cell_type": "code",
   "execution_count": 104,
   "metadata": {},
   "outputs": [],
   "source": [
    "twitch_nov['game'] = twitch_nov['game'].str.lower()"
   ]
  },
  {
   "cell_type": "code",
   "execution_count": 105,
   "metadata": {},
   "outputs": [],
   "source": [
    "combined = pd.merge(dec_df, twitch_nov, on='game')"
   ]
  },
  {
   "cell_type": "code",
   "execution_count": 106,
   "metadata": {},
   "outputs": [
    {
     "data": {
      "text/html": [
       "<div>\n",
       "<style scoped>\n",
       "    .dataframe tbody tr th:only-of-type {\n",
       "        vertical-align: middle;\n",
       "    }\n",
       "\n",
       "    .dataframe tbody tr th {\n",
       "        vertical-align: top;\n",
       "    }\n",
       "\n",
       "    .dataframe thead th {\n",
       "        text-align: right;\n",
       "    }\n",
       "</style>\n",
       "<table border=\"1\" class=\"dataframe\">\n",
       "  <thead>\n",
       "    <tr style=\"text-align: right;\">\n",
       "      <th></th>\n",
       "      <th>game</th>\n",
       "      <th>total</th>\n",
       "      <th>watch_time</th>\n",
       "      <th>stream_time</th>\n",
       "      <th>peak_viewers</th>\n",
       "      <th>peak_channels</th>\n",
       "      <th>streamers</th>\n",
       "      <th>average_viewers</th>\n",
       "      <th>average_channels</th>\n",
       "      <th>average_viewer_ratio</th>\n",
       "    </tr>\n",
       "  </thead>\n",
       "  <tbody>\n",
       "    <tr>\n",
       "      <th>0</th>\n",
       "      <td>just cause 4</td>\n",
       "      <td>60907</td>\n",
       "      <td>13200000</td>\n",
       "      <td>19800</td>\n",
       "      <td>57916</td>\n",
       "      <td>58</td>\n",
       "      <td>108</td>\n",
       "      <td>305</td>\n",
       "      <td>0</td>\n",
       "      <td>666.67</td>\n",
       "    </tr>\n",
       "    <tr>\n",
       "      <th>1</th>\n",
       "      <td>subnautica</td>\n",
       "      <td>15632</td>\n",
       "      <td>7669980</td>\n",
       "      <td>858720</td>\n",
       "      <td>4725</td>\n",
       "      <td>54</td>\n",
       "      <td>2342</td>\n",
       "      <td>177</td>\n",
       "      <td>19</td>\n",
       "      <td>8.93</td>\n",
       "    </tr>\n",
       "    <tr>\n",
       "      <th>2</th>\n",
       "      <td>super smash bros. ultimate</td>\n",
       "      <td>1440032</td>\n",
       "      <td>18280500</td>\n",
       "      <td>123060</td>\n",
       "      <td>15703</td>\n",
       "      <td>342</td>\n",
       "      <td>687</td>\n",
       "      <td>423</td>\n",
       "      <td>2</td>\n",
       "      <td>148.55</td>\n",
       "    </tr>\n",
       "  </tbody>\n",
       "</table>\n",
       "</div>"
      ],
      "text/plain": [
       "                         game    total  watch_time  stream_time  peak_viewers  \\\n",
       "0                just cause 4    60907    13200000        19800         57916   \n",
       "1                  subnautica    15632     7669980       858720          4725   \n",
       "2  super smash bros. ultimate  1440032    18280500       123060         15703   \n",
       "\n",
       "   peak_channels  streamers  average_viewers  average_channels  \\\n",
       "0             58        108              305                 0   \n",
       "1             54       2342              177                19   \n",
       "2            342        687              423                 2   \n",
       "\n",
       "   average_viewer_ratio  \n",
       "0                666.67  \n",
       "1                  8.93  \n",
       "2                148.55  "
      ]
     },
     "execution_count": 106,
     "metadata": {},
     "output_type": "execute_result"
    }
   ],
   "source": [
    "combined"
   ]
  },
  {
   "cell_type": "markdown",
   "metadata": {},
   "source": [
    "## November "
   ]
  },
  {
   "cell_type": "code",
   "execution_count": 107,
   "metadata": {},
   "outputs": [],
   "source": [
    "url = 'http://www.vgchartz.com/preorders/43408/USA/'\n",
    "\n",
    "response = requests.get(url)"
   ]
  },
  {
   "cell_type": "code",
   "execution_count": 108,
   "metadata": {},
   "outputs": [],
   "source": [
    "tables = pd.read_html(url)"
   ]
  },
  {
   "cell_type": "code",
   "execution_count": 109,
   "metadata": {},
   "outputs": [],
   "source": [
    "# convert list object to a dataframe \n",
    "nov_df = pd.DataFrame(tables[0])"
   ]
  },
  {
   "cell_type": "code",
   "execution_count": 110,
   "metadata": {},
   "outputs": [],
   "source": [
    "# Apply a function to format game title \n",
    "nov_df['Game'] = nov_df['Game'].apply(game_title)"
   ]
  },
  {
   "cell_type": "code",
   "execution_count": 111,
   "metadata": {},
   "outputs": [],
   "source": [
    "nov_df['Game'] = nov_df['Game'].str.lower()"
   ]
  },
  {
   "cell_type": "code",
   "execution_count": 112,
   "metadata": {},
   "outputs": [],
   "source": [
    "nov_df.columns = [x.lower() for x in nov_df.columns]"
   ]
  },
  {
   "cell_type": "code",
   "execution_count": 113,
   "metadata": {},
   "outputs": [],
   "source": [
    "nov_filtered = nov_df.loc[nov_df['weeks to launch'] <=4]"
   ]
  },
  {
   "cell_type": "code",
   "execution_count": 114,
   "metadata": {},
   "outputs": [],
   "source": [
    "nov_filtered = nov_filtered.dropna(subset=['total'])"
   ]
  },
  {
   "cell_type": "code",
   "execution_count": 115,
   "metadata": {},
   "outputs": [],
   "source": [
    "nov_df = nov_filtered.groupby(['game'])['total'].sum().reset_index()\n"
   ]
  },
  {
   "cell_type": "code",
   "execution_count": 116,
   "metadata": {},
   "outputs": [],
   "source": [
    "nov_df['game'] = nov_df['game'].replace([\"pokemon: let's go, eevee!\"], \"pokemon: let's go, pikachu!/eevee!\")"
   ]
  },
  {
   "cell_type": "code",
   "execution_count": 117,
   "metadata": {},
   "outputs": [],
   "source": [
    "nov_df['game'] = nov_df['game'].replace([\"pokemon: let's go, pikachu!\"], \"pokemon: let's go, pikachu!/eevee!\")"
   ]
  },
  {
   "cell_type": "code",
   "execution_count": 118,
   "metadata": {},
   "outputs": [],
   "source": [
    "nov_df = nov_filtered.groupby(['game'])['total'].sum().reset_index()\n"
   ]
  },
  {
   "cell_type": "code",
   "execution_count": 119,
   "metadata": {},
   "outputs": [
    {
     "data": {
      "text/html": [
       "<div>\n",
       "<style scoped>\n",
       "    .dataframe tbody tr th:only-of-type {\n",
       "        vertical-align: middle;\n",
       "    }\n",
       "\n",
       "    .dataframe tbody tr th {\n",
       "        vertical-align: top;\n",
       "    }\n",
       "\n",
       "    .dataframe thead th {\n",
       "        text-align: right;\n",
       "    }\n",
       "</style>\n",
       "<table border=\"1\" class=\"dataframe\">\n",
       "  <thead>\n",
       "    <tr style=\"text-align: right;\">\n",
       "      <th></th>\n",
       "      <th>game</th>\n",
       "      <th>total</th>\n",
       "    </tr>\n",
       "  </thead>\n",
       "  <tbody>\n",
       "    <tr>\n",
       "      <th>0</th>\n",
       "      <td>battlefield v</td>\n",
       "      <td>86769</td>\n",
       "    </tr>\n",
       "    <tr>\n",
       "      <th>1</th>\n",
       "      <td>bendy and the ink machine</td>\n",
       "      <td>38780</td>\n",
       "    </tr>\n",
       "    <tr>\n",
       "      <th>2</th>\n",
       "      <td>darksiders iii</td>\n",
       "      <td>79432</td>\n",
       "    </tr>\n",
       "    <tr>\n",
       "      <th>3</th>\n",
       "      <td>fallout 76</td>\n",
       "      <td>160681</td>\n",
       "    </tr>\n",
       "    <tr>\n",
       "      <th>4</th>\n",
       "      <td>fortnite</td>\n",
       "      <td>49047</td>\n",
       "    </tr>\n",
       "    <tr>\n",
       "      <th>5</th>\n",
       "      <td>hitman 2</td>\n",
       "      <td>24429</td>\n",
       "    </tr>\n",
       "    <tr>\n",
       "      <th>6</th>\n",
       "      <td>pokémon: let's go, eevee!</td>\n",
       "      <td>93533</td>\n",
       "    </tr>\n",
       "    <tr>\n",
       "      <th>7</th>\n",
       "      <td>pokémon: let's go, pikachu!</td>\n",
       "      <td>134430</td>\n",
       "    </tr>\n",
       "    <tr>\n",
       "      <th>8</th>\n",
       "      <td>spyro reignited trilogy</td>\n",
       "      <td>165475</td>\n",
       "    </tr>\n",
       "  </tbody>\n",
       "</table>\n",
       "</div>"
      ],
      "text/plain": [
       "                          game   total\n",
       "0                battlefield v   86769\n",
       "1    bendy and the ink machine   38780\n",
       "2               darksiders iii   79432\n",
       "3                   fallout 76  160681\n",
       "4                     fortnite   49047\n",
       "5                     hitman 2   24429\n",
       "6    pokémon: let's go, eevee!   93533\n",
       "7  pokémon: let's go, pikachu!  134430\n",
       "8      spyro reignited trilogy  165475"
      ]
     },
     "execution_count": 119,
     "metadata": {},
     "output_type": "execute_result"
    }
   ],
   "source": [
    "nov_df"
   ]
  },
  {
   "cell_type": "code",
   "execution_count": 120,
   "metadata": {},
   "outputs": [],
   "source": [
    "twitch_oct = pd.read_csv(\"twitch_october\")  "
   ]
  },
  {
   "cell_type": "code",
   "execution_count": 121,
   "metadata": {},
   "outputs": [],
   "source": [
    "twitch_oct.rename(columns = {\n",
    "    'Game': 'game',\n",
    "    'Watch time': 'watch_time',\n",
    "    'Stream time': 'stream_time',\n",
    "    'Peak viewers': 'peak_viewers',\n",
    "    'Peak channels': 'peak_channels',\n",
    "    'Streamers': 'streamers',\n",
    "    'Average viewers': 'average_viewers',\n",
    "    'Average channels': 'average_channels',\n",
    "    'Average viewer ratio': 'average_viewer_ratio',\n",
    "    'Followers gained': 'followers_gained',\n",
    "    'Views gained': 'views_gained'},\n",
    "    inplace = True)"
   ]
  },
  {
   "cell_type": "code",
   "execution_count": 122,
   "metadata": {},
   "outputs": [],
   "source": [
    "twitch_oct = twitch_oct.drop(['followers_gained', 'Unnamed: 1', 'Unnamed: 0', 'Unnamed: 13', 'views_gained'], axis=1)\n"
   ]
  },
  {
   "cell_type": "code",
   "execution_count": 123,
   "metadata": {},
   "outputs": [],
   "source": [
    "twitch_oct['game'] = twitch_oct['game'].str.lower()"
   ]
  },
  {
   "cell_type": "code",
   "execution_count": 124,
   "metadata": {},
   "outputs": [],
   "source": [
    "combined_oct = pd.merge(nov_df, twitch_oct, on='game')"
   ]
  },
  {
   "cell_type": "code",
   "execution_count": 125,
   "metadata": {},
   "outputs": [
    {
     "data": {
      "text/html": [
       "<div>\n",
       "<style scoped>\n",
       "    .dataframe tbody tr th:only-of-type {\n",
       "        vertical-align: middle;\n",
       "    }\n",
       "\n",
       "    .dataframe tbody tr th {\n",
       "        vertical-align: top;\n",
       "    }\n",
       "\n",
       "    .dataframe thead th {\n",
       "        text-align: right;\n",
       "    }\n",
       "</style>\n",
       "<table border=\"1\" class=\"dataframe\">\n",
       "  <thead>\n",
       "    <tr style=\"text-align: right;\">\n",
       "      <th></th>\n",
       "      <th>game</th>\n",
       "      <th>total</th>\n",
       "      <th>watch_time</th>\n",
       "      <th>stream_time</th>\n",
       "      <th>peak_viewers</th>\n",
       "      <th>peak_channels</th>\n",
       "      <th>streamers</th>\n",
       "      <th>average_viewers</th>\n",
       "      <th>average_channels</th>\n",
       "      <th>average_viewer_ratio</th>\n",
       "    </tr>\n",
       "  </thead>\n",
       "  <tbody>\n",
       "    <tr>\n",
       "      <th>0</th>\n",
       "      <td>fallout 76</td>\n",
       "      <td>160681</td>\n",
       "      <td>78005760</td>\n",
       "      <td>1573560</td>\n",
       "      <td>138444</td>\n",
       "      <td>3801</td>\n",
       "      <td>7162</td>\n",
       "      <td>1749</td>\n",
       "      <td>35</td>\n",
       "      <td>49.57</td>\n",
       "    </tr>\n",
       "    <tr>\n",
       "      <th>1</th>\n",
       "      <td>fortnite</td>\n",
       "      <td>49047</td>\n",
       "      <td>6727501200</td>\n",
       "      <td>398319000</td>\n",
       "      <td>591205</td>\n",
       "      <td>20952</td>\n",
       "      <td>822907</td>\n",
       "      <td>150908</td>\n",
       "      <td>8934</td>\n",
       "      <td>16.89</td>\n",
       "    </tr>\n",
       "  </tbody>\n",
       "</table>\n",
       "</div>"
      ],
      "text/plain": [
       "         game   total  watch_time  stream_time  peak_viewers  peak_channels  \\\n",
       "0  fallout 76  160681    78005760      1573560        138444           3801   \n",
       "1    fortnite   49047  6727501200    398319000        591205          20952   \n",
       "\n",
       "   streamers  average_viewers  average_channels  average_viewer_ratio  \n",
       "0       7162             1749                35                 49.57  \n",
       "1     822907           150908              8934                 16.89  "
      ]
     },
     "execution_count": 125,
     "metadata": {},
     "output_type": "execute_result"
    }
   ],
   "source": [
    "combined_oct"
   ]
  },
  {
   "cell_type": "markdown",
   "metadata": {},
   "source": [
    "## October"
   ]
  },
  {
   "cell_type": "code",
   "execution_count": 126,
   "metadata": {},
   "outputs": [],
   "source": [
    "url = 'http://www.vgchartz.com/preorders/43373/USA/'\n",
    "\n",
    "response = requests.get(url)"
   ]
  },
  {
   "cell_type": "code",
   "execution_count": 127,
   "metadata": {},
   "outputs": [],
   "source": [
    "tables = pd.read_html(url)"
   ]
  },
  {
   "cell_type": "code",
   "execution_count": 128,
   "metadata": {},
   "outputs": [],
   "source": [
    "# convert list object to a dataframe \n",
    "oct_df = pd.DataFrame(tables[0])"
   ]
  },
  {
   "cell_type": "code",
   "execution_count": 129,
   "metadata": {},
   "outputs": [],
   "source": [
    "# Apply a function to format game title \n",
    "oct_df['Game'] = oct_df['Game'].apply(game_title)"
   ]
  },
  {
   "cell_type": "code",
   "execution_count": 130,
   "metadata": {},
   "outputs": [],
   "source": [
    "oct_df['Game'] = oct_df['Game'].str.lower()"
   ]
  },
  {
   "cell_type": "code",
   "execution_count": 131,
   "metadata": {},
   "outputs": [],
   "source": [
    "oct_df.columns = [x.lower() for x in oct_df.columns]"
   ]
  },
  {
   "cell_type": "code",
   "execution_count": 133,
   "metadata": {},
   "outputs": [],
   "source": [
    "oct_filtered = oct_df.loc[oct_df['weeks to launch'] <=5]"
   ]
  },
  {
   "cell_type": "code",
   "execution_count": 134,
   "metadata": {},
   "outputs": [],
   "source": [
    "oct_filtered = oct_filtered.dropna(subset=['total'])"
   ]
  },
  {
   "cell_type": "code",
   "execution_count": 135,
   "metadata": {},
   "outputs": [],
   "source": [
    "oct_df = oct_filtered.groupby(['game'])['total'].sum().reset_index()\n"
   ]
  },
  {
   "cell_type": "code",
   "execution_count": 137,
   "metadata": {},
   "outputs": [],
   "source": [
    "oct_df['game'] = oct_df['game'].replace([\"dark souls: remastered\"], \"dark souls\")"
   ]
  },
  {
   "cell_type": "code",
   "execution_count": 160,
   "metadata": {},
   "outputs": [],
   "source": [
    "oct_df = oct_filtered.groupby(['game'])['total'].sum().reset_index()\n"
   ]
  },
  {
   "cell_type": "code",
   "execution_count": 161,
   "metadata": {},
   "outputs": [],
   "source": [
    "twitch_sept = pd.read_csv(\"twitch_september\")  "
   ]
  },
  {
   "cell_type": "code",
   "execution_count": 162,
   "metadata": {},
   "outputs": [],
   "source": [
    "twitch_sept.rename(columns = {\n",
    "    'Game': 'game',\n",
    "    'Watch time': 'watch_time',\n",
    "    'Stream time': 'stream_time',\n",
    "    'Peak viewers': 'peak_viewers',\n",
    "    'Peak channels': 'peak_channels',\n",
    "    'Streamers': 'streamers',\n",
    "    'Average viewers': 'average_viewers',\n",
    "    'Average channels': 'average_channels',\n",
    "    'Average viewer ratio': 'average_viewer_ratio',\n",
    "    'Followers gained': 'followers_gained',\n",
    "    'Views gained': 'views_gained'},\n",
    "    inplace = True)"
   ]
  },
  {
   "cell_type": "code",
   "execution_count": 163,
   "metadata": {},
   "outputs": [],
   "source": [
    "twitch_sept = twitch_sept.drop(['followers_gained', 'Unnamed: 1', 'Unnamed: 0', 'Unnamed: 13', 'views_gained'], axis=1)\n"
   ]
  },
  {
   "cell_type": "code",
   "execution_count": 164,
   "metadata": {},
   "outputs": [],
   "source": [
    "twitch_sept['game'] = twitch_sept['game'].str.lower()"
   ]
  },
  {
   "cell_type": "code",
   "execution_count": 165,
   "metadata": {},
   "outputs": [],
   "source": [
    "combined_sept = pd.merge(oct_df, twitch_sept, on='game')"
   ]
  },
  {
   "cell_type": "code",
   "execution_count": 166,
   "metadata": {},
   "outputs": [
    {
     "data": {
      "text/html": [
       "<div>\n",
       "<style scoped>\n",
       "    .dataframe tbody tr th:only-of-type {\n",
       "        vertical-align: middle;\n",
       "    }\n",
       "\n",
       "    .dataframe tbody tr th {\n",
       "        vertical-align: top;\n",
       "    }\n",
       "\n",
       "    .dataframe thead th {\n",
       "        text-align: right;\n",
       "    }\n",
       "</style>\n",
       "<table border=\"1\" class=\"dataframe\">\n",
       "  <thead>\n",
       "    <tr style=\"text-align: right;\">\n",
       "      <th></th>\n",
       "      <th>game</th>\n",
       "      <th>total</th>\n",
       "      <th>watch_time</th>\n",
       "      <th>stream_time</th>\n",
       "      <th>peak_viewers</th>\n",
       "      <th>peak_channels</th>\n",
       "      <th>streamers</th>\n",
       "      <th>average_viewers</th>\n",
       "      <th>average_channels</th>\n",
       "      <th>average_viewer_ratio</th>\n",
       "    </tr>\n",
       "  </thead>\n",
       "  <tbody>\n",
       "    <tr>\n",
       "      <th>0</th>\n",
       "      <td>assassin's creed odyssey</td>\n",
       "      <td>66582</td>\n",
       "      <td>3365760</td>\n",
       "      <td>16620</td>\n",
       "      <td>10159</td>\n",
       "      <td>18</td>\n",
       "      <td>124</td>\n",
       "      <td>78</td>\n",
       "      <td>0</td>\n",
       "      <td>202.51</td>\n",
       "    </tr>\n",
       "    <tr>\n",
       "      <th>1</th>\n",
       "      <td>assassin's creed odyssey</td>\n",
       "      <td>66582</td>\n",
       "      <td>3365760</td>\n",
       "      <td>16620</td>\n",
       "      <td>10159</td>\n",
       "      <td>18</td>\n",
       "      <td>124</td>\n",
       "      <td>78</td>\n",
       "      <td>0</td>\n",
       "      <td>202.51</td>\n",
       "    </tr>\n",
       "    <tr>\n",
       "      <th>2</th>\n",
       "      <td>mega man 11</td>\n",
       "      <td>56805</td>\n",
       "      <td>4184460</td>\n",
       "      <td>55980</td>\n",
       "      <td>12315</td>\n",
       "      <td>30</td>\n",
       "      <td>703</td>\n",
       "      <td>96</td>\n",
       "      <td>1</td>\n",
       "      <td>74.75</td>\n",
       "    </tr>\n",
       "    <tr>\n",
       "      <th>3</th>\n",
       "      <td>mega man 11</td>\n",
       "      <td>56805</td>\n",
       "      <td>4184460</td>\n",
       "      <td>55980</td>\n",
       "      <td>12315</td>\n",
       "      <td>30</td>\n",
       "      <td>703</td>\n",
       "      <td>96</td>\n",
       "      <td>1</td>\n",
       "      <td>74.75</td>\n",
       "    </tr>\n",
       "    <tr>\n",
       "      <th>4</th>\n",
       "      <td>soulcalibur vi</td>\n",
       "      <td>39348</td>\n",
       "      <td>33097560</td>\n",
       "      <td>357060</td>\n",
       "      <td>32532</td>\n",
       "      <td>238</td>\n",
       "      <td>1577</td>\n",
       "      <td>767</td>\n",
       "      <td>8</td>\n",
       "      <td>92.69</td>\n",
       "    </tr>\n",
       "  </tbody>\n",
       "</table>\n",
       "</div>"
      ],
      "text/plain": [
       "                       game  total  watch_time  stream_time  peak_viewers  \\\n",
       "0  assassin's creed odyssey  66582     3365760        16620         10159   \n",
       "1  assassin's creed odyssey  66582     3365760        16620         10159   \n",
       "2               mega man 11  56805     4184460        55980         12315   \n",
       "3               mega man 11  56805     4184460        55980         12315   \n",
       "4            soulcalibur vi  39348    33097560       357060         32532   \n",
       "\n",
       "   peak_channels  streamers  average_viewers  average_channels  \\\n",
       "0             18        124               78                 0   \n",
       "1             18        124               78                 0   \n",
       "2             30        703               96                 1   \n",
       "3             30        703               96                 1   \n",
       "4            238       1577              767                 8   \n",
       "\n",
       "   average_viewer_ratio  \n",
       "0                202.51  \n",
       "1                202.51  \n",
       "2                 74.75  \n",
       "3                 74.75  \n",
       "4                 92.69  "
      ]
     },
     "execution_count": 166,
     "metadata": {},
     "output_type": "execute_result"
    }
   ],
   "source": [
    "combined_sept"
   ]
  },
  {
   "cell_type": "markdown",
   "metadata": {},
   "source": [
    "## September"
   ]
  },
  {
   "cell_type": "code",
   "execution_count": 145,
   "metadata": {},
   "outputs": [],
   "source": [
    "combined_ocurl = 'http://www.vgchartz.com/preorders/43345/USA/'\n",
    "\n",
    "response = requests.get(url)"
   ]
  },
  {
   "cell_type": "code",
   "execution_count": 146,
   "metadata": {},
   "outputs": [],
   "source": [
    "tables = pd.read_html(url)"
   ]
  },
  {
   "cell_type": "code",
   "execution_count": 147,
   "metadata": {},
   "outputs": [],
   "source": [
    "# convert list object to a dataframe \n",
    "sept_df = pd.DataFrame(tables[0])"
   ]
  },
  {
   "cell_type": "code",
   "execution_count": 148,
   "metadata": {},
   "outputs": [],
   "source": [
    "# Apply a function to format game title \n",
    "sept_df['Game'] = sept_df['Game'].apply(game_title)"
   ]
  },
  {
   "cell_type": "code",
   "execution_count": 149,
   "metadata": {},
   "outputs": [],
   "source": [
    "sept_df['Game'] = sept_df['Game'].str.lower()"
   ]
  },
  {
   "cell_type": "code",
   "execution_count": 150,
   "metadata": {},
   "outputs": [],
   "source": [
    "sept_df.columns = [x.lower() for x in sept_df.columns]"
   ]
  },
  {
   "cell_type": "code",
   "execution_count": 151,
   "metadata": {},
   "outputs": [],
   "source": [
    "sept_filtered = sept_df.loc[sept_df['weeks to launch'] <=4]"
   ]
  },
  {
   "cell_type": "code",
   "execution_count": 152,
   "metadata": {},
   "outputs": [],
   "source": [
    "sept_filtered = sept_filtered.dropna(subset=['total'])"
   ]
  },
  {
   "cell_type": "code",
   "execution_count": 153,
   "metadata": {},
   "outputs": [],
   "source": [
    "sept_df = sept_filtered.groupby(['game'])['total'].sum().reset_index()\n"
   ]
  },
  {
   "cell_type": "code",
   "execution_count": 154,
   "metadata": {},
   "outputs": [],
   "source": [
    "twitch_aug = pd.read_csv(\"twitch_august\")  "
   ]
  },
  {
   "cell_type": "code",
   "execution_count": 155,
   "metadata": {},
   "outputs": [],
   "source": [
    "twitch_aug.rename(columns = {\n",
    "    'Game': 'game',\n",
    "    'Watch time': 'watch_time',\n",
    "    'Stream time': 'stream_time',\n",
    "    'Peak viewers': 'peak_viewers',\n",
    "    'Peak channels': 'peak_channels',\n",
    "    'Streamers': 'streamers',\n",
    "    'Average viewers': 'average_viewers',\n",
    "    'Average channels': 'average_channels',\n",
    "    'Average viewer ratio': 'average_viewer_ratio',\n",
    "    'Followers gained': 'followers_gained',\n",
    "    'Views gained': 'views_gained'},\n",
    "    inplace = True)"
   ]
  },
  {
   "cell_type": "code",
   "execution_count": 156,
   "metadata": {},
   "outputs": [],
   "source": [
    "twitch_aug = twitch_aug.drop(['followers_gained', 'Unnamed: 1', 'Unnamed: 0', 'Unnamed: 13', 'views_gained'], axis=1)\n"
   ]
  },
  {
   "cell_type": "code",
   "execution_count": 157,
   "metadata": {},
   "outputs": [],
   "source": [
    "twitch_aug['game'] = twitch_aug['game'].str.lower()"
   ]
  },
  {
   "cell_type": "code",
   "execution_count": 158,
   "metadata": {},
   "outputs": [],
   "source": [
    "combined_aug = pd.merge(sept_df, twitch_aug, on='game')"
   ]
  },
  {
   "cell_type": "code",
   "execution_count": 159,
   "metadata": {},
   "outputs": [
    {
     "data": {
      "text/html": [
       "<div>\n",
       "<style scoped>\n",
       "    .dataframe tbody tr th:only-of-type {\n",
       "        vertical-align: middle;\n",
       "    }\n",
       "\n",
       "    .dataframe tbody tr th {\n",
       "        vertical-align: top;\n",
       "    }\n",
       "\n",
       "    .dataframe thead th {\n",
       "        text-align: right;\n",
       "    }\n",
       "</style>\n",
       "<table border=\"1\" class=\"dataframe\">\n",
       "  <thead>\n",
       "    <tr style=\"text-align: right;\">\n",
       "      <th></th>\n",
       "      <th>game</th>\n",
       "      <th>total</th>\n",
       "      <th>watch_time</th>\n",
       "      <th>stream_time</th>\n",
       "      <th>peak_viewers</th>\n",
       "      <th>peak_channels</th>\n",
       "      <th>streamers</th>\n",
       "      <th>average_viewers</th>\n",
       "      <th>average_channels</th>\n",
       "      <th>average_viewer_ratio</th>\n",
       "    </tr>\n",
       "  </thead>\n",
       "  <tbody>\n",
       "    <tr>\n",
       "      <th>0</th>\n",
       "      <td>soulcalibur vi</td>\n",
       "      <td>39348</td>\n",
       "      <td>8669820</td>\n",
       "      <td>6420</td>\n",
       "      <td>23316</td>\n",
       "      <td>7</td>\n",
       "      <td>30</td>\n",
       "      <td>194</td>\n",
       "      <td>0</td>\n",
       "      <td>1350.44</td>\n",
       "    </tr>\n",
       "  </tbody>\n",
       "</table>\n",
       "</div>"
      ],
      "text/plain": [
       "             game  total  watch_time  stream_time  peak_viewers  \\\n",
       "0  soulcalibur vi  39348     8669820         6420         23316   \n",
       "\n",
       "   peak_channels  streamers  average_viewers  average_channels  \\\n",
       "0              7         30              194                 0   \n",
       "\n",
       "   average_viewer_ratio  \n",
       "0               1350.44  "
      ]
     },
     "execution_count": 159,
     "metadata": {},
     "output_type": "execute_result"
    }
   ],
   "source": [
    "combined_aug"
   ]
  },
  {
   "cell_type": "markdown",
   "metadata": {},
   "source": [
    "## August"
   ]
  },
  {
   "cell_type": "code",
   "execution_count": 167,
   "metadata": {},
   "outputs": [],
   "source": [
    "combined_ocurl = 'http://www.vgchartz.com/preorders/43317/USA/'\n",
    "\n",
    "response = requests.get(url)"
   ]
  },
  {
   "cell_type": "code",
   "execution_count": 168,
   "metadata": {},
   "outputs": [],
   "source": [
    "tables = pd.read_html(url)"
   ]
  },
  {
   "cell_type": "code",
   "execution_count": 169,
   "metadata": {},
   "outputs": [],
   "source": [
    "# convert list object to a dataframe \n",
    "aug_df = pd.DataFrame(tables[0])"
   ]
  },
  {
   "cell_type": "code",
   "execution_count": 170,
   "metadata": {},
   "outputs": [],
   "source": [
    "# Apply a function to format game title \n",
    "aug_df['Game'] = aug_df['Game'].apply(game_title)"
   ]
  },
  {
   "cell_type": "code",
   "execution_count": 171,
   "metadata": {},
   "outputs": [],
   "source": [
    "aug_df['Game'] = aug_df['Game'].str.lower()"
   ]
  },
  {
   "cell_type": "code",
   "execution_count": 172,
   "metadata": {},
   "outputs": [],
   "source": [
    "aug_df.columns = [x.lower() for x in aug_df.columns]"
   ]
  },
  {
   "cell_type": "code",
   "execution_count": 174,
   "metadata": {},
   "outputs": [],
   "source": [
    "aug_filtered = aug_df.loc[aug_df['weeks to launch'] <=4]"
   ]
  },
  {
   "cell_type": "code",
   "execution_count": 175,
   "metadata": {},
   "outputs": [],
   "source": [
    "aug_filtered = aug_filtered.dropna(subset=['total'])"
   ]
  },
  {
   "cell_type": "code",
   "execution_count": 176,
   "metadata": {},
   "outputs": [],
   "source": [
    "aug_df = aug_filtered.groupby(['game'])['total'].sum().reset_index()\n"
   ]
  },
  {
   "cell_type": "code",
   "execution_count": 177,
   "metadata": {},
   "outputs": [],
   "source": [
    "twitch_july = pd.read_csv(\"twitch_july\")  "
   ]
  },
  {
   "cell_type": "code",
   "execution_count": 178,
   "metadata": {},
   "outputs": [],
   "source": [
    "twitch_july.rename(columns = {\n",
    "    'Game': 'game',\n",
    "    'Watch time': 'watch_time',\n",
    "    'Stream time': 'stream_time',\n",
    "    'Peak viewers': 'peak_viewers',\n",
    "    'Peak channels': 'peak_channels',\n",
    "    'Streamers': 'streamers',\n",
    "    'Average viewers': 'average_viewers',\n",
    "    'Average channels': 'average_channels',\n",
    "    'Average viewer ratio': 'average_viewer_ratio',\n",
    "    'Followers gained': 'followers_gained',\n",
    "    'Views gained': 'views_gained'},\n",
    "    inplace = True)"
   ]
  },
  {
   "cell_type": "code",
   "execution_count": 179,
   "metadata": {},
   "outputs": [],
   "source": [
    "twitch_july = twitch_july.drop(['followers_gained', 'Unnamed: 1', 'Unnamed: 0', 'Unnamed: 13', 'views_gained'], axis=1)\n"
   ]
  },
  {
   "cell_type": "code",
   "execution_count": 180,
   "metadata": {},
   "outputs": [],
   "source": [
    "twitch_july['game'] = twitch_july['game'].str.lower()"
   ]
  },
  {
   "cell_type": "code",
   "execution_count": 181,
   "metadata": {},
   "outputs": [],
   "source": [
    "combined_july = pd.merge(aug_df, twitch_july, on='game')"
   ]
  },
  {
   "cell_type": "code",
   "execution_count": 182,
   "metadata": {},
   "outputs": [
    {
     "data": {
      "text/html": [
       "<div>\n",
       "<style scoped>\n",
       "    .dataframe tbody tr th:only-of-type {\n",
       "        vertical-align: middle;\n",
       "    }\n",
       "\n",
       "    .dataframe tbody tr th {\n",
       "        vertical-align: top;\n",
       "    }\n",
       "\n",
       "    .dataframe thead th {\n",
       "        text-align: right;\n",
       "    }\n",
       "</style>\n",
       "<table border=\"1\" class=\"dataframe\">\n",
       "  <thead>\n",
       "    <tr style=\"text-align: right;\">\n",
       "      <th></th>\n",
       "      <th>game</th>\n",
       "      <th>total</th>\n",
       "      <th>watch_time</th>\n",
       "      <th>stream_time</th>\n",
       "      <th>peak_viewers</th>\n",
       "      <th>peak_channels</th>\n",
       "      <th>streamers</th>\n",
       "      <th>average_viewers</th>\n",
       "      <th>average_channels</th>\n",
       "      <th>average_viewer_ratio</th>\n",
       "    </tr>\n",
       "  </thead>\n",
       "  <tbody>\n",
       "  </tbody>\n",
       "</table>\n",
       "</div>"
      ],
      "text/plain": [
       "Empty DataFrame\n",
       "Columns: [game, total, watch_time, stream_time, peak_viewers, peak_channels, streamers, average_viewers, average_channels, average_viewer_ratio]\n",
       "Index: []"
      ]
     },
     "execution_count": 182,
     "metadata": {},
     "output_type": "execute_result"
    }
   ],
   "source": [
    "combined_july"
   ]
  },
  {
   "cell_type": "markdown",
   "metadata": {},
   "source": [
    "## July"
   ]
  },
  {
   "cell_type": "code",
   "execution_count": 184,
   "metadata": {},
   "outputs": [],
   "source": [
    "combined_url = 'http://www.vgchartz.com/preorders/43289/USA/'\n",
    "\n",
    "response = requests.get(url)"
   ]
  },
  {
   "cell_type": "code",
   "execution_count": 185,
   "metadata": {},
   "outputs": [],
   "source": [
    "tables = pd.read_html(url)"
   ]
  },
  {
   "cell_type": "code",
   "execution_count": 188,
   "metadata": {},
   "outputs": [],
   "source": [
    "# convert list object to a dataframe \n",
    "july_df = pd.DataFrame(tables[0])"
   ]
  },
  {
   "cell_type": "code",
   "execution_count": 189,
   "metadata": {},
   "outputs": [],
   "source": [
    "july_df['Game'] = july_df['Game'].apply(game_title)"
   ]
  },
  {
   "cell_type": "code",
   "execution_count": 190,
   "metadata": {},
   "outputs": [],
   "source": [
    "july_df['Game'] = july_df['Game'].str.lower()"
   ]
  },
  {
   "cell_type": "code",
   "execution_count": 191,
   "metadata": {},
   "outputs": [],
   "source": [
    "july_df.columns = [x.lower() for x in july_df.columns]"
   ]
  },
  {
   "cell_type": "code",
   "execution_count": 192,
   "metadata": {},
   "outputs": [],
   "source": [
    "july_filtered = july_df.loc[july_df['weeks to launch'] <=4]"
   ]
  },
  {
   "cell_type": "code",
   "execution_count": 193,
   "metadata": {},
   "outputs": [],
   "source": [
    "july_filtered = july_filtered.dropna(subset=['total'])"
   ]
  },
  {
   "cell_type": "code",
   "execution_count": 194,
   "metadata": {},
   "outputs": [],
   "source": [
    "july_df = july_filtered.groupby(['game'])['total'].sum().reset_index()\n"
   ]
  },
  {
   "cell_type": "code",
   "execution_count": 195,
   "metadata": {},
   "outputs": [],
   "source": [
    "twitch_june = pd.read_csv(\"twitch_june\")  "
   ]
  },
  {
   "cell_type": "code",
   "execution_count": 196,
   "metadata": {},
   "outputs": [],
   "source": [
    "twitch_june.rename(columns = {\n",
    "    'Game': 'game',\n",
    "    'Watch time': 'watch_time',\n",
    "    'Stream time': 'stream_time',\n",
    "    'Peak viewers': 'peak_viewers',\n",
    "    'Peak channels': 'peak_channels',\n",
    "    'Streamers': 'streamers',\n",
    "    'Average viewers': 'average_viewers',\n",
    "    'Average channels': 'average_channels',\n",
    "    'Average viewer ratio': 'average_viewer_ratio',\n",
    "    'Followers gained': 'followers_gained',\n",
    "    'Views gained': 'views_gained'},\n",
    "    inplace = True)"
   ]
  },
  {
   "cell_type": "code",
   "execution_count": 197,
   "metadata": {},
   "outputs": [],
   "source": [
    "twitch_june = twitch_june.drop(['followers_gained', 'Unnamed: 1', 'Unnamed: 0', 'Unnamed: 13', 'views_gained'], axis=1)\n"
   ]
  },
  {
   "cell_type": "code",
   "execution_count": 198,
   "metadata": {},
   "outputs": [],
   "source": [
    "twitch_june['game'] = twitch_june['game'].str.lower()"
   ]
  },
  {
   "cell_type": "code",
   "execution_count": 199,
   "metadata": {},
   "outputs": [],
   "source": [
    "combined_june = pd.merge(july_df, twitch_june, on='game')"
   ]
  },
  {
   "cell_type": "code",
   "execution_count": 200,
   "metadata": {},
   "outputs": [
    {
     "data": {
      "text/html": [
       "<div>\n",
       "<style scoped>\n",
       "    .dataframe tbody tr th:only-of-type {\n",
       "        vertical-align: middle;\n",
       "    }\n",
       "\n",
       "    .dataframe tbody tr th {\n",
       "        vertical-align: top;\n",
       "    }\n",
       "\n",
       "    .dataframe thead th {\n",
       "        text-align: right;\n",
       "    }\n",
       "</style>\n",
       "<table border=\"1\" class=\"dataframe\">\n",
       "  <thead>\n",
       "    <tr style=\"text-align: right;\">\n",
       "      <th></th>\n",
       "      <th>game</th>\n",
       "      <th>total</th>\n",
       "      <th>watch_time</th>\n",
       "      <th>stream_time</th>\n",
       "      <th>peak_viewers</th>\n",
       "      <th>peak_channels</th>\n",
       "      <th>streamers</th>\n",
       "      <th>average_viewers</th>\n",
       "      <th>average_channels</th>\n",
       "      <th>average_viewer_ratio</th>\n",
       "    </tr>\n",
       "  </thead>\n",
       "  <tbody>\n",
       "    <tr>\n",
       "      <th>0</th>\n",
       "      <td>soulcalibur vi</td>\n",
       "      <td>39348</td>\n",
       "      <td>3773160</td>\n",
       "      <td>1380</td>\n",
       "      <td>14197</td>\n",
       "      <td>4</td>\n",
       "      <td>10</td>\n",
       "      <td>87</td>\n",
       "      <td>0</td>\n",
       "      <td>2734.17</td>\n",
       "    </tr>\n",
       "  </tbody>\n",
       "</table>\n",
       "</div>"
      ],
      "text/plain": [
       "             game  total  watch_time  stream_time  peak_viewers  \\\n",
       "0  soulcalibur vi  39348     3773160         1380         14197   \n",
       "\n",
       "   peak_channels  streamers  average_viewers  average_channels  \\\n",
       "0              4         10               87                 0   \n",
       "\n",
       "   average_viewer_ratio  \n",
       "0               2734.17  "
      ]
     },
     "execution_count": 200,
     "metadata": {},
     "output_type": "execute_result"
    }
   ],
   "source": [
    "combined_june"
   ]
  },
  {
   "cell_type": "code",
   "execution_count": 207,
   "metadata": {},
   "outputs": [],
   "source": [
    "df_2018 = pd.concat([combined_june, combined_july, combined_aug, combined_sept, combined_oct, combined_nov, combined], ignore_index=True) "
   ]
  },
  {
   "cell_type": "code",
   "execution_count": 209,
   "metadata": {},
   "outputs": [
    {
     "data": {
      "text/html": [
       "<div>\n",
       "<style scoped>\n",
       "    .dataframe tbody tr th:only-of-type {\n",
       "        vertical-align: middle;\n",
       "    }\n",
       "\n",
       "    .dataframe tbody tr th {\n",
       "        vertical-align: top;\n",
       "    }\n",
       "\n",
       "    .dataframe thead th {\n",
       "        text-align: right;\n",
       "    }\n",
       "</style>\n",
       "<table border=\"1\" class=\"dataframe\">\n",
       "  <thead>\n",
       "    <tr style=\"text-align: right;\">\n",
       "      <th></th>\n",
       "      <th>game</th>\n",
       "      <th>total</th>\n",
       "      <th>watch_time</th>\n",
       "      <th>stream_time</th>\n",
       "      <th>peak_viewers</th>\n",
       "      <th>peak_channels</th>\n",
       "      <th>streamers</th>\n",
       "      <th>average_viewers</th>\n",
       "      <th>average_channels</th>\n",
       "      <th>average_viewer_ratio</th>\n",
       "    </tr>\n",
       "  </thead>\n",
       "  <tbody>\n",
       "    <tr>\n",
       "      <th>0</th>\n",
       "      <td>soulcalibur vi</td>\n",
       "      <td>39348</td>\n",
       "      <td>3773160</td>\n",
       "      <td>1380</td>\n",
       "      <td>14197</td>\n",
       "      <td>4</td>\n",
       "      <td>10</td>\n",
       "      <td>87</td>\n",
       "      <td>0</td>\n",
       "      <td>2734.17</td>\n",
       "    </tr>\n",
       "    <tr>\n",
       "      <th>1</th>\n",
       "      <td>soulcalibur vi</td>\n",
       "      <td>39348</td>\n",
       "      <td>8669820</td>\n",
       "      <td>6420</td>\n",
       "      <td>23316</td>\n",
       "      <td>7</td>\n",
       "      <td>30</td>\n",
       "      <td>194</td>\n",
       "      <td>0</td>\n",
       "      <td>1350.44</td>\n",
       "    </tr>\n",
       "    <tr>\n",
       "      <th>2</th>\n",
       "      <td>assassin's creed odyssey</td>\n",
       "      <td>66582</td>\n",
       "      <td>3365760</td>\n",
       "      <td>16620</td>\n",
       "      <td>10159</td>\n",
       "      <td>18</td>\n",
       "      <td>124</td>\n",
       "      <td>78</td>\n",
       "      <td>0</td>\n",
       "      <td>202.51</td>\n",
       "    </tr>\n",
       "    <tr>\n",
       "      <th>3</th>\n",
       "      <td>assassin's creed odyssey</td>\n",
       "      <td>66582</td>\n",
       "      <td>3365760</td>\n",
       "      <td>16620</td>\n",
       "      <td>10159</td>\n",
       "      <td>18</td>\n",
       "      <td>124</td>\n",
       "      <td>78</td>\n",
       "      <td>0</td>\n",
       "      <td>202.51</td>\n",
       "    </tr>\n",
       "    <tr>\n",
       "      <th>4</th>\n",
       "      <td>mega man 11</td>\n",
       "      <td>56805</td>\n",
       "      <td>4184460</td>\n",
       "      <td>55980</td>\n",
       "      <td>12315</td>\n",
       "      <td>30</td>\n",
       "      <td>703</td>\n",
       "      <td>96</td>\n",
       "      <td>1</td>\n",
       "      <td>74.75</td>\n",
       "    </tr>\n",
       "    <tr>\n",
       "      <th>5</th>\n",
       "      <td>mega man 11</td>\n",
       "      <td>56805</td>\n",
       "      <td>4184460</td>\n",
       "      <td>55980</td>\n",
       "      <td>12315</td>\n",
       "      <td>30</td>\n",
       "      <td>703</td>\n",
       "      <td>96</td>\n",
       "      <td>1</td>\n",
       "      <td>74.75</td>\n",
       "    </tr>\n",
       "    <tr>\n",
       "      <th>6</th>\n",
       "      <td>soulcalibur vi</td>\n",
       "      <td>39348</td>\n",
       "      <td>33097560</td>\n",
       "      <td>357060</td>\n",
       "      <td>32532</td>\n",
       "      <td>238</td>\n",
       "      <td>1577</td>\n",
       "      <td>767</td>\n",
       "      <td>8</td>\n",
       "      <td>92.69</td>\n",
       "    </tr>\n",
       "    <tr>\n",
       "      <th>7</th>\n",
       "      <td>fallout 76</td>\n",
       "      <td>160681</td>\n",
       "      <td>78005760</td>\n",
       "      <td>1573560</td>\n",
       "      <td>138444</td>\n",
       "      <td>3801</td>\n",
       "      <td>7162</td>\n",
       "      <td>1749</td>\n",
       "      <td>35</td>\n",
       "      <td>49.57</td>\n",
       "    </tr>\n",
       "    <tr>\n",
       "      <th>8</th>\n",
       "      <td>fortnite</td>\n",
       "      <td>49047</td>\n",
       "      <td>6727501200</td>\n",
       "      <td>398319000</td>\n",
       "      <td>591205</td>\n",
       "      <td>20952</td>\n",
       "      <td>822907</td>\n",
       "      <td>150908</td>\n",
       "      <td>8934</td>\n",
       "      <td>16.89</td>\n",
       "    </tr>\n",
       "    <tr>\n",
       "      <th>9</th>\n",
       "      <td>battlefield v</td>\n",
       "      <td>86769</td>\n",
       "      <td>499377600</td>\n",
       "      <td>15136800</td>\n",
       "      <td>89149</td>\n",
       "      <td>1160</td>\n",
       "      <td>46471</td>\n",
       "      <td>11575</td>\n",
       "      <td>350</td>\n",
       "      <td>32.99</td>\n",
       "    </tr>\n",
       "    <tr>\n",
       "      <th>10</th>\n",
       "      <td>bendy and the ink machine</td>\n",
       "      <td>38780</td>\n",
       "      <td>3719940</td>\n",
       "      <td>169020</td>\n",
       "      <td>3029</td>\n",
       "      <td>59</td>\n",
       "      <td>1028</td>\n",
       "      <td>86</td>\n",
       "      <td>3</td>\n",
       "      <td>22.01</td>\n",
       "    </tr>\n",
       "    <tr>\n",
       "      <th>11</th>\n",
       "      <td>darksiders iii</td>\n",
       "      <td>79432</td>\n",
       "      <td>118575240</td>\n",
       "      <td>1345980</td>\n",
       "      <td>77310</td>\n",
       "      <td>580</td>\n",
       "      <td>4166</td>\n",
       "      <td>2748</td>\n",
       "      <td>31</td>\n",
       "      <td>88.10</td>\n",
       "    </tr>\n",
       "    <tr>\n",
       "      <th>12</th>\n",
       "      <td>fallout 76</td>\n",
       "      <td>160681</td>\n",
       "      <td>812623020</td>\n",
       "      <td>32799240</td>\n",
       "      <td>209140</td>\n",
       "      <td>5476</td>\n",
       "      <td>59684</td>\n",
       "      <td>18836</td>\n",
       "      <td>760</td>\n",
       "      <td>24.78</td>\n",
       "    </tr>\n",
       "    <tr>\n",
       "      <th>13</th>\n",
       "      <td>fortnite</td>\n",
       "      <td>49047</td>\n",
       "      <td>6467622960</td>\n",
       "      <td>397753020</td>\n",
       "      <td>1077180</td>\n",
       "      <td>34564</td>\n",
       "      <td>800661</td>\n",
       "      <td>149921</td>\n",
       "      <td>9220</td>\n",
       "      <td>16.26</td>\n",
       "    </tr>\n",
       "    <tr>\n",
       "      <th>14</th>\n",
       "      <td>hitman 2</td>\n",
       "      <td>24429</td>\n",
       "      <td>176687820</td>\n",
       "      <td>1744320</td>\n",
       "      <td>78744</td>\n",
       "      <td>265</td>\n",
       "      <td>6342</td>\n",
       "      <td>4095</td>\n",
       "      <td>40</td>\n",
       "      <td>101.29</td>\n",
       "    </tr>\n",
       "    <tr>\n",
       "      <th>15</th>\n",
       "      <td>spyro reignited trilogy</td>\n",
       "      <td>165475</td>\n",
       "      <td>111451320</td>\n",
       "      <td>6500100</td>\n",
       "      <td>58334</td>\n",
       "      <td>1346</td>\n",
       "      <td>17693</td>\n",
       "      <td>2583</td>\n",
       "      <td>150</td>\n",
       "      <td>17.15</td>\n",
       "    </tr>\n",
       "    <tr>\n",
       "      <th>16</th>\n",
       "      <td>just cause 4</td>\n",
       "      <td>60907</td>\n",
       "      <td>13200000</td>\n",
       "      <td>19800</td>\n",
       "      <td>57916</td>\n",
       "      <td>58</td>\n",
       "      <td>108</td>\n",
       "      <td>305</td>\n",
       "      <td>0</td>\n",
       "      <td>666.67</td>\n",
       "    </tr>\n",
       "    <tr>\n",
       "      <th>17</th>\n",
       "      <td>subnautica</td>\n",
       "      <td>15632</td>\n",
       "      <td>7669980</td>\n",
       "      <td>858720</td>\n",
       "      <td>4725</td>\n",
       "      <td>54</td>\n",
       "      <td>2342</td>\n",
       "      <td>177</td>\n",
       "      <td>19</td>\n",
       "      <td>8.93</td>\n",
       "    </tr>\n",
       "    <tr>\n",
       "      <th>18</th>\n",
       "      <td>super smash bros. ultimate</td>\n",
       "      <td>1440032</td>\n",
       "      <td>18280500</td>\n",
       "      <td>123060</td>\n",
       "      <td>15703</td>\n",
       "      <td>342</td>\n",
       "      <td>687</td>\n",
       "      <td>423</td>\n",
       "      <td>2</td>\n",
       "      <td>148.55</td>\n",
       "    </tr>\n",
       "  </tbody>\n",
       "</table>\n",
       "</div>"
      ],
      "text/plain": [
       "                          game    total  watch_time  stream_time  \\\n",
       "0               soulcalibur vi    39348     3773160         1380   \n",
       "1               soulcalibur vi    39348     8669820         6420   \n",
       "2     assassin's creed odyssey    66582     3365760        16620   \n",
       "3     assassin's creed odyssey    66582     3365760        16620   \n",
       "4                  mega man 11    56805     4184460        55980   \n",
       "5                  mega man 11    56805     4184460        55980   \n",
       "6               soulcalibur vi    39348    33097560       357060   \n",
       "7                   fallout 76   160681    78005760      1573560   \n",
       "8                     fortnite    49047  6727501200    398319000   \n",
       "9                battlefield v    86769   499377600     15136800   \n",
       "10   bendy and the ink machine    38780     3719940       169020   \n",
       "11              darksiders iii    79432   118575240      1345980   \n",
       "12                  fallout 76   160681   812623020     32799240   \n",
       "13                    fortnite    49047  6467622960    397753020   \n",
       "14                    hitman 2    24429   176687820      1744320   \n",
       "15     spyro reignited trilogy   165475   111451320      6500100   \n",
       "16                just cause 4    60907    13200000        19800   \n",
       "17                  subnautica    15632     7669980       858720   \n",
       "18  super smash bros. ultimate  1440032    18280500       123060   \n",
       "\n",
       "    peak_viewers  peak_channels  streamers  average_viewers  average_channels  \\\n",
       "0          14197              4         10               87                 0   \n",
       "1          23316              7         30              194                 0   \n",
       "2          10159             18        124               78                 0   \n",
       "3          10159             18        124               78                 0   \n",
       "4          12315             30        703               96                 1   \n",
       "5          12315             30        703               96                 1   \n",
       "6          32532            238       1577              767                 8   \n",
       "7         138444           3801       7162             1749                35   \n",
       "8         591205          20952     822907           150908              8934   \n",
       "9          89149           1160      46471            11575               350   \n",
       "10          3029             59       1028               86                 3   \n",
       "11         77310            580       4166             2748                31   \n",
       "12        209140           5476      59684            18836               760   \n",
       "13       1077180          34564     800661           149921              9220   \n",
       "14         78744            265       6342             4095                40   \n",
       "15         58334           1346      17693             2583               150   \n",
       "16         57916             58        108              305                 0   \n",
       "17          4725             54       2342              177                19   \n",
       "18         15703            342        687              423                 2   \n",
       "\n",
       "    average_viewer_ratio  \n",
       "0                2734.17  \n",
       "1                1350.44  \n",
       "2                 202.51  \n",
       "3                 202.51  \n",
       "4                  74.75  \n",
       "5                  74.75  \n",
       "6                  92.69  \n",
       "7                  49.57  \n",
       "8                  16.89  \n",
       "9                  32.99  \n",
       "10                 22.01  \n",
       "11                 88.10  \n",
       "12                 24.78  \n",
       "13                 16.26  \n",
       "14                101.29  \n",
       "15                 17.15  \n",
       "16                666.67  \n",
       "17                  8.93  \n",
       "18                148.55  "
      ]
     },
     "execution_count": 209,
     "metadata": {},
     "output_type": "execute_result"
    }
   ],
   "source": [
    "df_2018"
   ]
  },
  {
   "cell_type": "code",
   "execution_count": 210,
   "metadata": {},
   "outputs": [],
   "source": [
    "df_2018 = df_2018.drop([9, 13])"
   ]
  },
  {
   "cell_type": "code",
   "execution_count": 211,
   "metadata": {},
   "outputs": [
    {
     "data": {
      "text/html": [
       "<div>\n",
       "<style scoped>\n",
       "    .dataframe tbody tr th:only-of-type {\n",
       "        vertical-align: middle;\n",
       "    }\n",
       "\n",
       "    .dataframe tbody tr th {\n",
       "        vertical-align: top;\n",
       "    }\n",
       "\n",
       "    .dataframe thead th {\n",
       "        text-align: right;\n",
       "    }\n",
       "</style>\n",
       "<table border=\"1\" class=\"dataframe\">\n",
       "  <thead>\n",
       "    <tr style=\"text-align: right;\">\n",
       "      <th></th>\n",
       "      <th>total</th>\n",
       "      <th>watch_time</th>\n",
       "      <th>stream_time</th>\n",
       "      <th>peak_viewers</th>\n",
       "      <th>peak_channels</th>\n",
       "      <th>streamers</th>\n",
       "      <th>average_viewers</th>\n",
       "      <th>average_channels</th>\n",
       "      <th>average_viewer_ratio</th>\n",
       "    </tr>\n",
       "  </thead>\n",
       "  <tbody>\n",
       "    <tr>\n",
       "      <th>total</th>\n",
       "      <td>1.000000</td>\n",
       "      <td>-0.079065</td>\n",
       "      <td>-0.078079</td>\n",
       "      <td>-0.089671</td>\n",
       "      <td>-0.061846</td>\n",
       "      <td>-0.078413</td>\n",
       "      <td>-0.079080</td>\n",
       "      <td>-0.078123</td>\n",
       "      <td>-0.107452</td>\n",
       "    </tr>\n",
       "    <tr>\n",
       "      <th>watch_time</th>\n",
       "      <td>-0.079065</td>\n",
       "      <td>1.000000</td>\n",
       "      <td>0.999073</td>\n",
       "      <td>0.955709</td>\n",
       "      <td>0.977393</td>\n",
       "      <td>0.998671</td>\n",
       "      <td>0.999992</td>\n",
       "      <td>0.999167</td>\n",
       "      <td>-0.143094</td>\n",
       "    </tr>\n",
       "    <tr>\n",
       "      <th>stream_time</th>\n",
       "      <td>-0.078079</td>\n",
       "      <td>0.999073</td>\n",
       "      <td>1.000000</td>\n",
       "      <td>0.944978</td>\n",
       "      <td>0.971713</td>\n",
       "      <td>0.999917</td>\n",
       "      <td>0.998906</td>\n",
       "      <td>0.999996</td>\n",
       "      <td>-0.134657</td>\n",
       "    </tr>\n",
       "    <tr>\n",
       "      <th>peak_viewers</th>\n",
       "      <td>-0.089671</td>\n",
       "      <td>0.955709</td>\n",
       "      <td>0.944978</td>\n",
       "      <td>1.000000</td>\n",
       "      <td>0.987510</td>\n",
       "      <td>0.943681</td>\n",
       "      <td>0.956509</td>\n",
       "      <td>0.945599</td>\n",
       "      <td>-0.192369</td>\n",
       "    </tr>\n",
       "    <tr>\n",
       "      <th>peak_channels</th>\n",
       "      <td>-0.061846</td>\n",
       "      <td>0.977393</td>\n",
       "      <td>0.971713</td>\n",
       "      <td>0.987510</td>\n",
       "      <td>1.000000</td>\n",
       "      <td>0.970709</td>\n",
       "      <td>0.977855</td>\n",
       "      <td>0.972158</td>\n",
       "      <td>-0.183959</td>\n",
       "    </tr>\n",
       "    <tr>\n",
       "      <th>streamers</th>\n",
       "      <td>-0.078413</td>\n",
       "      <td>0.998671</td>\n",
       "      <td>0.999917</td>\n",
       "      <td>0.943681</td>\n",
       "      <td>0.970709</td>\n",
       "      <td>1.000000</td>\n",
       "      <td>0.998466</td>\n",
       "      <td>0.999885</td>\n",
       "      <td>-0.135732</td>\n",
       "    </tr>\n",
       "    <tr>\n",
       "      <th>average_viewers</th>\n",
       "      <td>-0.079080</td>\n",
       "      <td>0.999992</td>\n",
       "      <td>0.998906</td>\n",
       "      <td>0.956509</td>\n",
       "      <td>0.977855</td>\n",
       "      <td>0.998466</td>\n",
       "      <td>1.000000</td>\n",
       "      <td>0.999012</td>\n",
       "      <td>-0.143773</td>\n",
       "    </tr>\n",
       "    <tr>\n",
       "      <th>average_channels</th>\n",
       "      <td>-0.078123</td>\n",
       "      <td>0.999167</td>\n",
       "      <td>0.999996</td>\n",
       "      <td>0.945599</td>\n",
       "      <td>0.972158</td>\n",
       "      <td>0.999885</td>\n",
       "      <td>0.999012</td>\n",
       "      <td>1.000000</td>\n",
       "      <td>-0.135029</td>\n",
       "    </tr>\n",
       "    <tr>\n",
       "      <th>average_viewer_ratio</th>\n",
       "      <td>-0.107452</td>\n",
       "      <td>-0.143094</td>\n",
       "      <td>-0.134657</td>\n",
       "      <td>-0.192369</td>\n",
       "      <td>-0.183959</td>\n",
       "      <td>-0.135732</td>\n",
       "      <td>-0.143773</td>\n",
       "      <td>-0.135029</td>\n",
       "      <td>1.000000</td>\n",
       "    </tr>\n",
       "  </tbody>\n",
       "</table>\n",
       "</div>"
      ],
      "text/plain": [
       "                         total  watch_time  stream_time  peak_viewers  \\\n",
       "total                 1.000000   -0.079065    -0.078079     -0.089671   \n",
       "watch_time           -0.079065    1.000000     0.999073      0.955709   \n",
       "stream_time          -0.078079    0.999073     1.000000      0.944978   \n",
       "peak_viewers         -0.089671    0.955709     0.944978      1.000000   \n",
       "peak_channels        -0.061846    0.977393     0.971713      0.987510   \n",
       "streamers            -0.078413    0.998671     0.999917      0.943681   \n",
       "average_viewers      -0.079080    0.999992     0.998906      0.956509   \n",
       "average_channels     -0.078123    0.999167     0.999996      0.945599   \n",
       "average_viewer_ratio -0.107452   -0.143094    -0.134657     -0.192369   \n",
       "\n",
       "                      peak_channels  streamers  average_viewers  \\\n",
       "total                     -0.061846  -0.078413        -0.079080   \n",
       "watch_time                 0.977393   0.998671         0.999992   \n",
       "stream_time                0.971713   0.999917         0.998906   \n",
       "peak_viewers               0.987510   0.943681         0.956509   \n",
       "peak_channels              1.000000   0.970709         0.977855   \n",
       "streamers                  0.970709   1.000000         0.998466   \n",
       "average_viewers            0.977855   0.998466         1.000000   \n",
       "average_channels           0.972158   0.999885         0.999012   \n",
       "average_viewer_ratio      -0.183959  -0.135732        -0.143773   \n",
       "\n",
       "                      average_channels  average_viewer_ratio  \n",
       "total                        -0.078123             -0.107452  \n",
       "watch_time                    0.999167             -0.143094  \n",
       "stream_time                   0.999996             -0.134657  \n",
       "peak_viewers                  0.945599             -0.192369  \n",
       "peak_channels                 0.972158             -0.183959  \n",
       "streamers                     0.999885             -0.135732  \n",
       "average_viewers               0.999012             -0.143773  \n",
       "average_channels              1.000000             -0.135029  \n",
       "average_viewer_ratio         -0.135029              1.000000  "
      ]
     },
     "execution_count": 211,
     "metadata": {},
     "output_type": "execute_result"
    }
   ],
   "source": [
    "df_2018.corr()"
   ]
  },
  {
   "cell_type": "code",
   "execution_count": 212,
   "metadata": {},
   "outputs": [
    {
     "data": {
      "image/png": "[encoded data removed]",
      "text/plain": [
       "<Figure size 432x288 with 2 Axes>"
      ]
     },
     "metadata": {
      "needs_background": "light"
     },
     "output_type": "display_data"
    }
   ],
   "source": [
    "sns.heatmap(df_2018.corr(), cmap=\"seismic\", annot=True, vmin=-1, vmax=1);\n"
   ]
  },
  {
   "cell_type": "code",
   "execution_count": 214,
   "metadata": {},
   "outputs": [
    {
     "name": "stderr",
     "output_type": "stream",
     "text": [
      "/Users/nicksherwin/anaconda3/lib/python3.7/site-packages/scipy/stats/stats.py:1416: UserWarning: kurtosistest only valid for n>=20 ... continuing anyway, n=17\n",
      "  \"anyway, n=%i\" % int(n))\n"
     ]
    },
    {
     "data": {
      "text/html": [
       "<table class=\"simpletable\">\n",
       "<caption>OLS Regression Results</caption>\n",
       "<tr>\n",
       "  <th>Dep. Variable:</th>          <td>total</td>      <th>  R-squared:         </th> <td>   0.037</td>\n",
       "</tr>\n",
       "<tr>\n",
       "  <th>Model:</th>                   <td>OLS</td>       <th>  Adj. R-squared:    </th> <td>  -0.101</td>\n",
       "</tr>\n",
       "<tr>\n",
       "  <th>Method:</th>             <td>Least Squares</td>  <th>  F-statistic:       </th> <td>  0.2672</td>\n",
       "</tr>\n",
       "<tr>\n",
       "  <th>Date:</th>             <td>Thu, 18 Jul 2019</td> <th>  Prob (F-statistic):</th>  <td> 0.769</td> \n",
       "</tr>\n",
       "<tr>\n",
       "  <th>Time:</th>                 <td>14:38:34</td>     <th>  Log-Likelihood:    </th> <td> -239.59</td>\n",
       "</tr>\n",
       "<tr>\n",
       "  <th>No. Observations:</th>      <td>    17</td>      <th>  AIC:               </th> <td>   485.2</td>\n",
       "</tr>\n",
       "<tr>\n",
       "  <th>Df Residuals:</th>          <td>    14</td>      <th>  BIC:               </th> <td>   487.7</td>\n",
       "</tr>\n",
       "<tr>\n",
       "  <th>Df Model:</th>              <td>     2</td>      <th>                     </th>     <td> </td>   \n",
       "</tr>\n",
       "<tr>\n",
       "  <th>Covariance Type:</th>      <td>nonrobust</td>    <th>                     </th>     <td> </td>   \n",
       "</tr>\n",
       "</table>\n",
       "<table class=\"simpletable\">\n",
       "<tr>\n",
       "        <td></td>           <th>coef</th>     <th>std err</th>      <th>t</th>      <th>P>|t|</th>  <th>[0.025</th>    <th>0.975]</th>  \n",
       "</tr>\n",
       "<tr>\n",
       "  <th>Intercept</th>     <td> 2.275e+05</td> <td> 1.36e+05</td> <td>    1.679</td> <td> 0.115</td> <td>-6.31e+04</td> <td> 5.18e+05</td>\n",
       "</tr>\n",
       "<tr>\n",
       "  <th>peak_viewers</th>  <td>   -2.7050</td> <td>    3.909</td> <td>   -0.692</td> <td> 0.500</td> <td>  -11.089</td> <td>    5.679</td>\n",
       "</tr>\n",
       "<tr>\n",
       "  <th>peak_channels</th> <td>   70.4066</td> <td>  108.960</td> <td>    0.646</td> <td> 0.529</td> <td> -163.288</td> <td>  304.102</td>\n",
       "</tr>\n",
       "</table>\n",
       "<table class=\"simpletable\">\n",
       "<tr>\n",
       "  <th>Omnibus:</th>       <td>39.719</td> <th>  Durbin-Watson:     </th> <td>   1.273</td>\n",
       "</tr>\n",
       "<tr>\n",
       "  <th>Prob(Omnibus):</th> <td> 0.000</td> <th>  Jarque-Bera (JB):  </th> <td> 101.625</td>\n",
       "</tr>\n",
       "<tr>\n",
       "  <th>Skew:</th>          <td> 3.308</td> <th>  Prob(JB):          </th> <td>8.56e-23</td>\n",
       "</tr>\n",
       "<tr>\n",
       "  <th>Kurtosis:</th>      <td>12.985</td> <th>  Cond. No.          </th> <td>2.54e+05</td>\n",
       "</tr>\n",
       "</table><br/><br/>Warnings:<br/>[1] Standard Errors assume that the covariance matrix of the errors is correctly specified.<br/>[2] The condition number is large, 2.54e+05. This might indicate that there are<br/>strong multicollinearity or other numerical problems."
      ],
      "text/plain": [
       "<class 'statsmodels.iolib.summary.Summary'>\n",
       "\"\"\"\n",
       "                            OLS Regression Results                            \n",
       "==============================================================================\n",
       "Dep. Variable:                  total   R-squared:                       0.037\n",
       "Model:                            OLS   Adj. R-squared:                 -0.101\n",
       "Method:                 Least Squares   F-statistic:                    0.2672\n",
       "Date:                Thu, 18 Jul 2019   Prob (F-statistic):              0.769\n",
       "Time:                        14:38:34   Log-Likelihood:                -239.59\n",
       "No. Observations:                  17   AIC:                             485.2\n",
       "Df Residuals:                      14   BIC:                             487.7\n",
       "Df Model:                           2                                         \n",
       "Covariance Type:            nonrobust                                         \n",
       "=================================================================================\n",
       "                    coef    std err          t      P>|t|      [0.025      0.975]\n",
       "---------------------------------------------------------------------------------\n",
       "Intercept      2.275e+05   1.36e+05      1.679      0.115   -6.31e+04    5.18e+05\n",
       "peak_viewers     -2.7050      3.909     -0.692      0.500     -11.089       5.679\n",
       "peak_channels    70.4066    108.960      0.646      0.529    -163.288     304.102\n",
       "==============================================================================\n",
       "Omnibus:                       39.719   Durbin-Watson:                   1.273\n",
       "Prob(Omnibus):                  0.000   Jarque-Bera (JB):              101.625\n",
       "Skew:                           3.308   Prob(JB):                     8.56e-23\n",
       "Kurtosis:                      12.985   Cond. No.                     2.54e+05\n",
       "==============================================================================\n",
       "\n",
       "Warnings:\n",
       "[1] Standard Errors assume that the covariance matrix of the errors is correctly specified.\n",
       "[2] The condition number is large, 2.54e+05. This might indicate that there are\n",
       "strong multicollinearity or other numerical problems.\n",
       "\"\"\""
      ]
     },
     "execution_count": 214,
     "metadata": {},
     "output_type": "execute_result"
    }
   ],
   "source": [
    "# Define the model\n",
    "lm1 = smf.ols('total ~ peak_viewers + peak_channels', data=df_2018)\n",
    "\n",
    "# Fit the model\n",
    "fit = lm1.fit()\n",
    "\n",
    "# Print summary statistics of the model's performance\n",
    "fit.summary()"
   ]
  },
  {
   "cell_type": "code",
   "execution_count": null,
   "metadata": {},
   "outputs": [],
   "source": []
  }
 ],
 "metadata": {
  "kernelspec": {
   "display_name": "metis",
   "language": "python",
   "name": "metis"
  },
  "language_info": {
   "codemirror_mode": {
    "name": "ipython",
    "version": 3
   },
   "file_extension": ".py",
   "mimetype": "text/x-python",
   "name": "python",
   "nbconvert_exporter": "python",
   "pygments_lexer": "ipython3",
   "version": "3.7.3"
  }
 },
 "nbformat": 4,
 "nbformat_minor": 2
}
