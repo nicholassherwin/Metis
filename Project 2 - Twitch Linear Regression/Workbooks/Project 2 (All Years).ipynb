{
 "cells": [
  {
   "cell_type": "code",
   "execution_count": 1,
   "metadata": {},
   "outputs": [],
   "source": [
    "import pandas as pd\n",
    "import numpy as np\n",
    "\n",
    "from dateutil.parser import parse\n",
    "from datetime import datetime\n",
    "import dateutil.parser\n",
    "\n",
    "import matplotlib.pyplot as plt\n",
    "%matplotlib inline\n",
    "\n",
    "import seaborn as sns\n",
    "\n",
    "\n",
    "import glob\n",
    "import os\n",
    "import zipfile\n",
    "\n",
    "import timeit\n",
    "import requests\n",
    "\n",
    "from bs4 import BeautifulSoup\n",
    "import re\n",
    "import urllib\n",
    "from bs4 import BeautifulSoup, element\n",
    "\n",
    "import nltk\n",
    "\n",
    "import statsmodels.api as sm\n",
    "import statsmodels.formula.api as smf\n",
    "import patsy\n",
    "\n",
    "from sklearn.linear_model import LinearRegression\n",
    "from sklearn.linear_model import RidgeCV\n",
    "\n",
    "import statsmodels.api as sm"
   ]
  },
  {
   "cell_type": "code",
   "execution_count": 2,
   "metadata": {},
   "outputs": [],
   "source": [
    "# find and bring in all csv files from working directory\n",
    "extension = 'csv'\n",
    "all_filenames = [i for i in glob.glob('*.{}'.format(extension))]"
   ]
  },
  {
   "cell_type": "code",
   "execution_count": 3,
   "metadata": {},
   "outputs": [],
   "source": [
    "# export 2019 data into a single CSV file\n",
    "combined_csv = pd.concat([pd.read_csv(f) for f in all_filenames ])\n",
    "#export to csv\n",
    "combined_csv.to_csv( \"twitch2018.csv\", index=False, encoding='utf-8-sig')"
   ]
  },
  {
   "cell_type": "code",
   "execution_count": 4,
   "metadata": {},
   "outputs": [],
   "source": [
    "twitch_df = pd.read_csv('twitch2018.csv')"
   ]
  },
  {
   "cell_type": "code",
   "execution_count": 6,
   "metadata": {},
   "outputs": [
    {
     "name": "stdout",
     "output_type": "stream",
     "text": [
      "<class 'pandas.core.frame.DataFrame'>\n",
      "RangeIndex: 3000 entries, 0 to 2999\n",
      "Data columns (total 14 columns):\n",
      "Unnamed: 0              3000 non-null object\n",
      "Unnamed: 1              3000 non-null int64\n",
      "Game                    3000 non-null object\n",
      "Watch time              3000 non-null int64\n",
      "Stream time             3000 non-null int64\n",
      "Peak viewers            3000 non-null int64\n",
      "Peak channels           3000 non-null int64\n",
      "Streamers               3000 non-null int64\n",
      "Average viewers         3000 non-null int64\n",
      "Average channels        3000 non-null int64\n",
      "Average viewer ratio    3000 non-null float64\n",
      "Followers gained        3000 non-null int64\n",
      "Views gained            3000 non-null int64\n",
      "Unnamed: 13             3000 non-null object\n",
      "dtypes: float64(1), int64(10), object(3)\n",
      "memory usage: 328.2+ KB\n"
     ]
    }
   ],
   "source": [
    "twitch_df.info()"
   ]
  },
  {
   "cell_type": "code",
   "execution_count": null,
   "metadata": {},
   "outputs": [],
   "source": []
  }
 ],
 "metadata": {
  "kernelspec": {
   "display_name": "metis",
   "language": "python",
   "name": "metis"
  },
  "language_info": {
   "codemirror_mode": {
    "name": "ipython",
    "version": 3
   },
   "file_extension": ".py",
   "mimetype": "text/x-python",
   "name": "python",
   "nbconvert_exporter": "python",
   "pygments_lexer": "ipython3",
   "version": "3.7.3"
  }
 },
 "nbformat": 4,
 "nbformat_minor": 2
}
